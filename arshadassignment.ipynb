{
 "cells": [
  {
   "cell_type": "code",
   "execution_count": 2,
   "id": "f75e4c61",
   "metadata": {},
   "outputs": [],
   "source": [
    "l =[1,2,3,4,5,6,7,8,9,10,12,13,14,15,16,17,18,19,20,21,22,23,24,25]"
   ]
  },
  {
   "cell_type": "code",
   "execution_count": 7,
   "id": "e2ed17f0",
   "metadata": {},
   "outputs": [
    {
     "name": "stdout",
     "output_type": "stream",
     "text": [
      "1 is not divisible\n",
      "2 is not divisible\n",
      "3 is divisible\n",
      "4 is not divisible\n",
      "5 is not divisible\n",
      "6 is divisible\n",
      "7 is not divisible\n",
      "8 is not divisible\n",
      "9 is divisible\n",
      "10 is not divisible\n",
      "12 is divisible\n",
      "13 is not divisible\n",
      "14 is not divisible\n",
      "15 is divisible\n",
      "16 is not divisible\n",
      "17 is not divisible\n",
      "18 is divisible\n",
      "19 is not divisible\n",
      "20 is not divisible\n",
      "21 is divisible\n",
      "22 is not divisible\n",
      "23 is not divisible\n",
      "24 is divisible\n",
      "25 is not divisible\n"
     ]
    }
   ],
   "source": [
    "for i in l:\n",
    "   if i%3==0:\n",
    "    print(i, \"is divisible\")\n",
    "   else:\n",
    "    print(i, \"is not divisible\")\n"
   ]
  },
  {
   "cell_type": "code",
   "execution_count": null,
   "id": "a72986a7",
   "metadata": {},
   "outputs": [],
   "source": [
    "  "
   ]
  },
  {
   "cell_type": "code",
   "execution_count": null,
   "id": "5514b345",
   "metadata": {},
   "outputs": [],
   "source": []
  },
  {
   "cell_type": "code",
   "execution_count": null,
   "id": "92683e22",
   "metadata": {},
   "outputs": [],
   "source": []
  }
 ],
 "metadata": {
  "kernelspec": {
   "display_name": "Python 3 (ipykernel)",
   "language": "python",
   "name": "python3"
  },
  "language_info": {
   "codemirror_mode": {
    "name": "ipython",
    "version": 3
   },
   "file_extension": ".py",
   "mimetype": "text/x-python",
   "name": "python",
   "nbconvert_exporter": "python",
   "pygments_lexer": "ipython3",
   "version": "3.11.1"
  }
 },
 "nbformat": 4,
 "nbformat_minor": 5
}
